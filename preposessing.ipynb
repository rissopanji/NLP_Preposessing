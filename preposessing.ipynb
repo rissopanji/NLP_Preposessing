{
 "cells": [
  {
   "cell_type": "markdown",
   "metadata": {},
   "source": [
    "## Import"
   ]
  },
  {
   "cell_type": "code",
   "execution_count": 15,
   "metadata": {},
   "outputs": [],
   "source": [
    "import pandas as pd\n",
    "import re"
   ]
  },
  {
   "cell_type": "markdown",
   "metadata": {},
   "source": [
    "## Load Dataset"
   ]
  },
  {
   "cell_type": "code",
   "execution_count": 26,
   "metadata": {},
   "outputs": [
    {
     "name": "stdout",
     "output_type": "stream",
     "text": [
      "   Dokumenke-i                                        Isi Dokumen\n",
      "0            1  pembukaan daftar wisuda dan pelaksanaan nya le...\n",
      "1            2  dalam setahun belakangan ini, pengaksesan KRS ...\n",
      "2            3  Assalamualaikum Wr. Wb. yang menjadi salah sat...\n",
      "3            4  pak/bu dosen saya mau minta keringanan biaya p...\n"
     ]
    }
   ],
   "source": [
    "data = pd.read_excel('dataset.xlsx')\n",
    "\n",
    "print(data)"
   ]
  },
  {
   "cell_type": "markdown",
   "metadata": {},
   "source": [
    "## Preposessing"
   ]
  },
  {
   "cell_type": "markdown",
   "metadata": {},
   "source": [
    "Casefolding"
   ]
  },
  {
   "cell_type": "code",
   "execution_count": 28,
   "metadata": {},
   "outputs": [
    {
     "name": "stdout",
     "output_type": "stream",
     "text": [
      "   Dokumenke-i                                        Isi Dokumen\n",
      "0            1  pembukaan daftar wisuda dan pelaksanaan nya le...\n",
      "1            2  dalam setahun belakangan ini, pengaksesan krs ...\n",
      "2            3  assalamualaikum wr. wb. yang menjadi salah sat...\n",
      "3            4  pak/bu dosen saya mau minta keringanan biaya p...\n"
     ]
    }
   ],
   "source": [
    "data['Isi Dokumen'] = data['Isi Dokumen'].str.lower()\n",
    "\n",
    "# Menyimpan DataFrame ke dalam file Excel\n",
    "data.to_excel('hasil_casefolding.xlsx', index=False)\n",
    "\n",
    "print(data)"
   ]
  },
  {
   "cell_type": "markdown",
   "metadata": {},
   "source": [
    "Filtering Tanda Baca"
   ]
  },
  {
   "cell_type": "code",
   "execution_count": 29,
   "metadata": {},
   "outputs": [
    {
     "name": "stdout",
     "output_type": "stream",
     "text": [
      "   Dokumenke-i                                        Isi Dokumen\n",
      "0            1  pembukaan daftar wisuda dan pelaksanaan nya le...\n",
      "1            2  dalam setahun belakangan ini pengaksesan krs d...\n",
      "2            3  assalamualaikum wr wb yang menjadi salah satu ...\n",
      "3            4  pakbu dosen saya mau minta keringanan biaya pr...\n"
     ]
    }
   ],
   "source": [
    "def remove_punctuation(text):\n",
    "    return re.sub(r'[^\\w\\s]', '', text)\n",
    "\n",
    "data['Isi Dokumen'] = data['Isi Dokumen'].apply(remove_punctuation)\n",
    "\n",
    "# Menyimpan DataFrame ke dalam file Excel\n",
    "data.to_excel('hasil_tandabaca.xlsx', index=False)\n",
    "\n",
    "print(data)"
   ]
  },
  {
   "cell_type": "markdown",
   "metadata": {},
   "source": [
    "Filtering Stoplist \n",
    "\n",
    "(https://www.kaggle.com/datasets/oswinrh/indonesian-stoplist?resource=download)"
   ]
  },
  {
   "cell_type": "code",
   "execution_count": 30,
   "metadata": {},
   "outputs": [
    {
     "name": "stdout",
     "output_type": "stream",
     "text": [
      "   Dokumenke-i                                        Isi Dokumen\n",
      "0            1  pembukaan daftar wisuda pelaksanaan nya d umum...\n",
      "1            2  setahun pengaksesan krs diganti siam sinergi s...\n",
      "2            3  assalamualaikum wr wb salah syarat ujian kompr...\n",
      "3            4  dosen keringanan biaya proposional spp keberat...\n"
     ]
    }
   ],
   "source": [
    "stopwords_file = 'stopwordbahasa.csv'\n",
    "\n",
    "# Fungsi untuk membaca kamus stop words\n",
    "def load_stopwords(file_path):\n",
    "    with open(file_path, 'r', encoding='utf-8') as f:\n",
    "        stopwords = [line.strip() for line in f]\n",
    "    return set(stopwords)\n",
    "\n",
    "# Fungsi untuk menghapus stop words dari teks\n",
    "def remove_stopwords(text, stopwords):\n",
    "    tokens = text.split()\n",
    "    filtered_tokens = [word for word in tokens if word.lower() not in stopwords]\n",
    "    return ' '.join(filtered_tokens)\n",
    "\n",
    "\n",
    "# Baca kamus stop words\n",
    "stopwords = load_stopwords(stopwords_file)\n",
    "\n",
    "# Proses penghapusan stop words\n",
    "data['Isi Dokumen'] = data['Isi Dokumen'].apply(lambda x: remove_stopwords(str(x), stopwords))\n",
    "\n",
    "# Menyimpan DataFrame ke dalam file Excel\n",
    "data.to_excel('hasil_stoplist.xlsx', index=False)\n",
    "\n",
    "print(data)\n"
   ]
  },
  {
   "cell_type": "markdown",
   "metadata": {},
   "source": [
    "Stemming porter (bahasa Indonesia), "
   ]
  },
  {
   "cell_type": "code",
   "execution_count": 31,
   "metadata": {},
   "outputs": [
    {
     "name": "stdout",
     "output_type": "stream",
     "text": [
      "   Dokumenke-i                                        Isi Dokumen\n",
      "0            1  buka daftar wisuda laksana nya d umum web ub f...\n",
      "1            2  tahun akses krs ganti siam sinergi sinergi fit...\n",
      "2            3  assalamualaikum wr wb salah syarat uji kompre ...\n",
      "3            4  dosen ringan biaya proposional spp berat biaya...\n"
     ]
    }
   ],
   "source": [
    "from Sastrawi.Stemmer.StemmerFactory import StemmerFactory\n",
    "\n",
    "factory = StemmerFactory()\n",
    "stemmer = factory.create_stemmer()\n",
    "\n",
    "data['Isi Dokumen'] = data['Isi Dokumen'].apply(lambda x: ' '.join([stemmer.stem(word) for word in x.split()]))\n",
    "\n",
    "# Menyimpan DataFrame ke dalam file Excel\n",
    "data.to_excel('hasil_stemming.xlsx', index=False)\n",
    "\n",
    "print(data)"
   ]
  },
  {
   "cell_type": "markdown",
   "metadata": {},
   "source": [
    "Tokenisasi"
   ]
  },
  {
   "cell_type": "code",
   "execution_count": 21,
   "metadata": {},
   "outputs": [
    {
     "name": "stdout",
     "output_type": "stream",
     "text": [
      "   Dokumenke-i                                        Isi Dokumen  \\\n",
      "0            1  buka daftar wisuda laksana nya d umum web ub f...   \n",
      "1            2  tahun akses krs ganti siam sinergi sinergi fit...   \n",
      "2            3  assalamualaikum wr wb salah syarat uji kompre ...   \n",
      "3            4  dosen ringan biaya proposional spp berat biaya...   \n",
      "\n",
      "                                           Tokenized  \n",
      "0  [buka, daftar, wisuda, laksana, nya, d, umum, ...  \n",
      "1  [tahun, akses, krs, ganti, siam, sinergi, sine...  \n",
      "2  [assalamualaikum, wr, wb, salah, syarat, uji, ...  \n",
      "3  [dosen, ringan, biaya, proposional, spp, berat...  \n"
     ]
    },
    {
     "name": "stderr",
     "output_type": "stream",
     "text": [
      "[nltk_data] Downloading package punkt to\n",
      "[nltk_data]     C:\\Users\\TEMP\\AppData\\Roaming\\nltk_data...\n",
      "[nltk_data]   Package punkt is already up-to-date!\n"
     ]
    }
   ],
   "source": [
    "import nltk\n",
    "from nltk.tokenize import word_tokenize\n",
    "\n",
    "# Download punkt tokenizer jika belum diunduh\n",
    "nltk.download('punkt')\n",
    "\n",
    "# Melakukan tokenisasi pada kolom 'Isi Dokumen'\n",
    "data['Tokenized'] = data['Isi Dokumen'].apply(lambda x: word_tokenize(x))\n",
    "\n",
    "# Menampilkan DataFrame setelah tokenisasi\n",
    "print(data)"
   ]
  },
  {
   "cell_type": "code",
   "execution_count": 22,
   "metadata": {},
   "outputs": [
    {
     "name": "stdout",
     "output_type": "stream",
     "text": [
      "Hasil telah disimpan dalam file Excel: hasil_preposessing.xlsx\n"
     ]
    }
   ],
   "source": [
    "# Menyimpan hasil tokenisasi ke dalam DataFrame\n",
    "data_to_save = data.copy()\n",
    "\n",
    "# Simpan DataFrame ke dalam file Excel\n",
    "nama_file_excel = 'hasil_preposessing.xlsx'\n",
    "data_to_save.to_excel(nama_file_excel, index=False)\n",
    "\n",
    "print(\"Hasil telah disimpan dalam file Excel:\", nama_file_excel)"
   ]
  }
 ],
 "metadata": {
  "kernelspec": {
   "display_name": "Python 3",
   "language": "python",
   "name": "python3"
  },
  "language_info": {
   "codemirror_mode": {
    "name": "ipython",
    "version": 3
   },
   "file_extension": ".py",
   "mimetype": "text/x-python",
   "name": "python",
   "nbconvert_exporter": "python",
   "pygments_lexer": "ipython3",
   "version": "3.9.0"
  }
 },
 "nbformat": 4,
 "nbformat_minor": 2
}
